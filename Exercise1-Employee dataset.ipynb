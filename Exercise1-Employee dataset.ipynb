{
 "cells": [
  {
   "cell_type": "code",
   "execution_count": 1,
   "metadata": {
    "collapsed": true
   },
   "outputs": [],
   "source": [
    "import pandas as pd\n",
    "import numpy as np"
   ]
  },
  {
   "cell_type": "code",
   "execution_count": 2,
   "metadata": {
    "collapsed": false
   },
   "outputs": [
    {
     "data": {
      "text/html": [
       "<div>\n",
       "<table border=\"1\" class=\"dataframe\">\n",
       "  <thead>\n",
       "    <tr style=\"text-align: right;\">\n",
       "      <th></th>\n",
       "      <th>EmployeeID</th>\n",
       "      <th>recorddate_key</th>\n",
       "      <th>birthdate_key</th>\n",
       "      <th>orighiredate_key</th>\n",
       "      <th>terminationdate_key</th>\n",
       "      <th>age</th>\n",
       "      <th>length_of_service</th>\n",
       "      <th>city_name</th>\n",
       "      <th>department_name</th>\n",
       "      <th>job_title</th>\n",
       "      <th>store_name</th>\n",
       "      <th>gender_short</th>\n",
       "      <th>gender_full</th>\n",
       "      <th>termreason_desc</th>\n",
       "      <th>termtype_desc</th>\n",
       "      <th>STATUS_YEAR</th>\n",
       "      <th>STATUS</th>\n",
       "      <th>BUSINESS_UNIT</th>\n",
       "    </tr>\n",
       "  </thead>\n",
       "  <tbody>\n",
       "    <tr>\n",
       "      <th>0</th>\n",
       "      <td>1318</td>\n",
       "      <td>12/31/2006 0:00</td>\n",
       "      <td>1954-01-03</td>\n",
       "      <td>1989-08-28</td>\n",
       "      <td>1900-01-01</td>\n",
       "      <td>52</td>\n",
       "      <td>17</td>\n",
       "      <td>Vancouver</td>\n",
       "      <td>Executive</td>\n",
       "      <td>CEO</td>\n",
       "      <td>35</td>\n",
       "      <td>M</td>\n",
       "      <td>Male</td>\n",
       "      <td>Not Applicable</td>\n",
       "      <td>Not Applicable</td>\n",
       "      <td>2006</td>\n",
       "      <td>ACTIVE</td>\n",
       "      <td>HEADOFFICE</td>\n",
       "    </tr>\n",
       "    <tr>\n",
       "      <th>1</th>\n",
       "      <td>1318</td>\n",
       "      <td>12/31/2007 0:00</td>\n",
       "      <td>1954-01-03</td>\n",
       "      <td>1989-08-28</td>\n",
       "      <td>1900-01-01</td>\n",
       "      <td>53</td>\n",
       "      <td>18</td>\n",
       "      <td>Vancouver</td>\n",
       "      <td>Executive</td>\n",
       "      <td>CEO</td>\n",
       "      <td>35</td>\n",
       "      <td>M</td>\n",
       "      <td>Male</td>\n",
       "      <td>Not Applicable</td>\n",
       "      <td>Not Applicable</td>\n",
       "      <td>2007</td>\n",
       "      <td>ACTIVE</td>\n",
       "      <td>HEADOFFICE</td>\n",
       "    </tr>\n",
       "    <tr>\n",
       "      <th>2</th>\n",
       "      <td>1318</td>\n",
       "      <td>12/31/2008 0:00</td>\n",
       "      <td>1954-01-03</td>\n",
       "      <td>1989-08-28</td>\n",
       "      <td>1900-01-01</td>\n",
       "      <td>54</td>\n",
       "      <td>19</td>\n",
       "      <td>Vancouver</td>\n",
       "      <td>Executive</td>\n",
       "      <td>CEO</td>\n",
       "      <td>35</td>\n",
       "      <td>M</td>\n",
       "      <td>Male</td>\n",
       "      <td>Not Applicable</td>\n",
       "      <td>Not Applicable</td>\n",
       "      <td>2008</td>\n",
       "      <td>ACTIVE</td>\n",
       "      <td>HEADOFFICE</td>\n",
       "    </tr>\n",
       "    <tr>\n",
       "      <th>3</th>\n",
       "      <td>1318</td>\n",
       "      <td>12/31/2009 0:00</td>\n",
       "      <td>1954-01-03</td>\n",
       "      <td>1989-08-28</td>\n",
       "      <td>1900-01-01</td>\n",
       "      <td>55</td>\n",
       "      <td>20</td>\n",
       "      <td>Vancouver</td>\n",
       "      <td>Executive</td>\n",
       "      <td>CEO</td>\n",
       "      <td>35</td>\n",
       "      <td>M</td>\n",
       "      <td>Male</td>\n",
       "      <td>Not Applicable</td>\n",
       "      <td>Not Applicable</td>\n",
       "      <td>2009</td>\n",
       "      <td>ACTIVE</td>\n",
       "      <td>HEADOFFICE</td>\n",
       "    </tr>\n",
       "    <tr>\n",
       "      <th>4</th>\n",
       "      <td>1318</td>\n",
       "      <td>12/31/2010 0:00</td>\n",
       "      <td>1954-01-03</td>\n",
       "      <td>1989-08-28</td>\n",
       "      <td>1900-01-01</td>\n",
       "      <td>56</td>\n",
       "      <td>21</td>\n",
       "      <td>Vancouver</td>\n",
       "      <td>Executive</td>\n",
       "      <td>CEO</td>\n",
       "      <td>35</td>\n",
       "      <td>M</td>\n",
       "      <td>Male</td>\n",
       "      <td>Not Applicable</td>\n",
       "      <td>Not Applicable</td>\n",
       "      <td>2010</td>\n",
       "      <td>ACTIVE</td>\n",
       "      <td>HEADOFFICE</td>\n",
       "    </tr>\n",
       "  </tbody>\n",
       "</table>\n",
       "</div>"
      ],
      "text/plain": [
       "   EmployeeID   recorddate_key birthdate_key orighiredate_key  \\\n",
       "0        1318  12/31/2006 0:00    1954-01-03       1989-08-28   \n",
       "1        1318  12/31/2007 0:00    1954-01-03       1989-08-28   \n",
       "2        1318  12/31/2008 0:00    1954-01-03       1989-08-28   \n",
       "3        1318  12/31/2009 0:00    1954-01-03       1989-08-28   \n",
       "4        1318  12/31/2010 0:00    1954-01-03       1989-08-28   \n",
       "\n",
       "  terminationdate_key  age  length_of_service  city_name department_name  \\\n",
       "0          1900-01-01   52                 17  Vancouver       Executive   \n",
       "1          1900-01-01   53                 18  Vancouver       Executive   \n",
       "2          1900-01-01   54                 19  Vancouver       Executive   \n",
       "3          1900-01-01   55                 20  Vancouver       Executive   \n",
       "4          1900-01-01   56                 21  Vancouver       Executive   \n",
       "\n",
       "  job_title  store_name gender_short gender_full termreason_desc  \\\n",
       "0       CEO          35            M        Male  Not Applicable   \n",
       "1       CEO          35            M        Male  Not Applicable   \n",
       "2       CEO          35            M        Male  Not Applicable   \n",
       "3       CEO          35            M        Male  Not Applicable   \n",
       "4       CEO          35            M        Male  Not Applicable   \n",
       "\n",
       "    termtype_desc  STATUS_YEAR  STATUS BUSINESS_UNIT  \n",
       "0  Not Applicable         2006  ACTIVE    HEADOFFICE  \n",
       "1  Not Applicable         2007  ACTIVE    HEADOFFICE  \n",
       "2  Not Applicable         2008  ACTIVE    HEADOFFICE  \n",
       "3  Not Applicable         2009  ACTIVE    HEADOFFICE  \n",
       "4  Not Applicable         2010  ACTIVE    HEADOFFICE  "
      ]
     },
     "execution_count": 2,
     "metadata": {},
     "output_type": "execute_result"
    }
   ],
   "source": [
    "employee = pd.read_csv('C://Users/mkrijal/Desktop/ML_self_exercises/MFG10YearTerminationData.csv')\n",
    "employee.head()\n"
   ]
  },
  {
   "cell_type": "code",
   "execution_count": 3,
   "metadata": {
    "collapsed": false
   },
   "outputs": [
    {
     "data": {
      "text/plain": [
       "18"
      ]
     },
     "execution_count": 3,
     "metadata": {},
     "output_type": "execute_result"
    }
   ],
   "source": [
    "#Total column\n",
    "employee.shape[1]"
   ]
  },
  {
   "cell_type": "code",
   "execution_count": 4,
   "metadata": {
    "collapsed": false
   },
   "outputs": [
    {
     "data": {
      "text/plain": [
       "49653"
      ]
     },
     "execution_count": 4,
     "metadata": {},
     "output_type": "execute_result"
    }
   ],
   "source": [
    "#Total roews\n",
    "employee.shape[0]"
   ]
  },
  {
   "cell_type": "code",
   "execution_count": 6,
   "metadata": {
    "collapsed": false
   },
   "outputs": [
    {
     "data": {
      "text/plain": [
       "['EmployeeID',\n",
       " 'recorddate_key',\n",
       " 'birthdate_key',\n",
       " 'orighiredate_key',\n",
       " 'terminationdate_key',\n",
       " 'age',\n",
       " 'length_of_service',\n",
       " 'city_name',\n",
       " 'department_name',\n",
       " 'job_title',\n",
       " 'store_name',\n",
       " 'gender_short',\n",
       " 'gender_full',\n",
       " 'termreason_desc',\n",
       " 'termtype_desc',\n",
       " 'STATUS_YEAR',\n",
       " 'STATUS',\n",
       " 'BUSINESS_UNIT']"
      ]
     },
     "execution_count": 6,
     "metadata": {},
     "output_type": "execute_result"
    }
   ],
   "source": [
    "#list of column\n",
    "list(employee)"
   ]
  },
  {
   "cell_type": "code",
   "execution_count": 7,
   "metadata": {
    "collapsed": false
   },
   "outputs": [
    {
     "data": {
      "text/html": [
       "<div>\n",
       "<table border=\"1\" class=\"dataframe\">\n",
       "  <thead>\n",
       "    <tr style=\"text-align: right;\">\n",
       "      <th></th>\n",
       "      <th>EmployeeID</th>\n",
       "      <th>recorddate_key</th>\n",
       "      <th>birthdate_key</th>\n",
       "      <th>orighiredate_key</th>\n",
       "      <th>terminationdate_key</th>\n",
       "      <th>age</th>\n",
       "      <th>length_of_service</th>\n",
       "      <th>city_name</th>\n",
       "      <th>department_name</th>\n",
       "      <th>job_title</th>\n",
       "      <th>store_name</th>\n",
       "      <th>gender_short</th>\n",
       "      <th>gender_full</th>\n",
       "      <th>termreason_desc</th>\n",
       "      <th>termtype_desc</th>\n",
       "      <th>STATUS_YEAR</th>\n",
       "      <th>STATUS</th>\n",
       "      <th>BUSINESS_UNIT</th>\n",
       "    </tr>\n",
       "  </thead>\n",
       "  <tbody>\n",
       "    <tr>\n",
       "      <th>49643</th>\n",
       "      <td>6863</td>\n",
       "      <td>9/1/2013 0:00</td>\n",
       "      <td>1983-09-07</td>\n",
       "      <td>2007-12-21</td>\n",
       "      <td>2013-09-07</td>\n",
       "      <td>30</td>\n",
       "      <td>5</td>\n",
       "      <td>Williams Lake</td>\n",
       "      <td>Processed Foods</td>\n",
       "      <td>Shelf Stocker</td>\n",
       "      <td>40</td>\n",
       "      <td>F</td>\n",
       "      <td>Female</td>\n",
       "      <td>Resignaton</td>\n",
       "      <td>Voluntary</td>\n",
       "      <td>2013</td>\n",
       "      <td>TERMINATED</td>\n",
       "      <td>STORES</td>\n",
       "    </tr>\n",
       "    <tr>\n",
       "      <th>49644</th>\n",
       "      <td>5475</td>\n",
       "      <td>5/1/2012 0:00</td>\n",
       "      <td>1972-08-01</td>\n",
       "      <td>2002-02-08</td>\n",
       "      <td>2012-05-07</td>\n",
       "      <td>39</td>\n",
       "      <td>10</td>\n",
       "      <td>Williams Lake</td>\n",
       "      <td>Bakery</td>\n",
       "      <td>Baker</td>\n",
       "      <td>40</td>\n",
       "      <td>M</td>\n",
       "      <td>Male</td>\n",
       "      <td>Resignaton</td>\n",
       "      <td>Voluntary</td>\n",
       "      <td>2012</td>\n",
       "      <td>TERMINATED</td>\n",
       "      <td>STORES</td>\n",
       "    </tr>\n",
       "    <tr>\n",
       "      <th>49645</th>\n",
       "      <td>8013</td>\n",
       "      <td>1/1/2014 0:00</td>\n",
       "      <td>1992-05-26</td>\n",
       "      <td>2012-07-28</td>\n",
       "      <td>2014-01-28</td>\n",
       "      <td>21</td>\n",
       "      <td>1</td>\n",
       "      <td>Williams Lake</td>\n",
       "      <td>Customer Service</td>\n",
       "      <td>Cashier</td>\n",
       "      <td>40</td>\n",
       "      <td>M</td>\n",
       "      <td>Male</td>\n",
       "      <td>Resignaton</td>\n",
       "      <td>Voluntary</td>\n",
       "      <td>2014</td>\n",
       "      <td>TERMINATED</td>\n",
       "      <td>STORES</td>\n",
       "    </tr>\n",
       "    <tr>\n",
       "      <th>49646</th>\n",
       "      <td>7265</td>\n",
       "      <td>2/1/2011 0:00</td>\n",
       "      <td>1986-10-04</td>\n",
       "      <td>2009-08-05</td>\n",
       "      <td>2011-02-05</td>\n",
       "      <td>24</td>\n",
       "      <td>1</td>\n",
       "      <td>Williams Lake</td>\n",
       "      <td>Customer Service</td>\n",
       "      <td>Cashier</td>\n",
       "      <td>40</td>\n",
       "      <td>M</td>\n",
       "      <td>Male</td>\n",
       "      <td>Resignaton</td>\n",
       "      <td>Voluntary</td>\n",
       "      <td>2011</td>\n",
       "      <td>TERMINATED</td>\n",
       "      <td>STORES</td>\n",
       "    </tr>\n",
       "    <tr>\n",
       "      <th>49647</th>\n",
       "      <td>8183</td>\n",
       "      <td>10/1/2014 0:00</td>\n",
       "      <td>1993-10-02</td>\n",
       "      <td>2013-04-15</td>\n",
       "      <td>2014-10-15</td>\n",
       "      <td>21</td>\n",
       "      <td>1</td>\n",
       "      <td>Williams Lake</td>\n",
       "      <td>Customer Service</td>\n",
       "      <td>Cashier</td>\n",
       "      <td>40</td>\n",
       "      <td>F</td>\n",
       "      <td>Female</td>\n",
       "      <td>Resignaton</td>\n",
       "      <td>Voluntary</td>\n",
       "      <td>2014</td>\n",
       "      <td>TERMINATED</td>\n",
       "      <td>STORES</td>\n",
       "    </tr>\n",
       "    <tr>\n",
       "      <th>49648</th>\n",
       "      <td>7560</td>\n",
       "      <td>7/1/2013 0:00</td>\n",
       "      <td>1988-12-26</td>\n",
       "      <td>2010-10-08</td>\n",
       "      <td>2013-07-18</td>\n",
       "      <td>24</td>\n",
       "      <td>2</td>\n",
       "      <td>Williams Lake</td>\n",
       "      <td>Customer Service</td>\n",
       "      <td>Cashier</td>\n",
       "      <td>40</td>\n",
       "      <td>M</td>\n",
       "      <td>Male</td>\n",
       "      <td>Resignaton</td>\n",
       "      <td>Voluntary</td>\n",
       "      <td>2013</td>\n",
       "      <td>TERMINATED</td>\n",
       "      <td>STORES</td>\n",
       "    </tr>\n",
       "    <tr>\n",
       "      <th>49649</th>\n",
       "      <td>1483</td>\n",
       "      <td>11/1/2014 0:00</td>\n",
       "      <td>1949-11-22</td>\n",
       "      <td>1990-02-15</td>\n",
       "      <td>2014-11-22</td>\n",
       "      <td>65</td>\n",
       "      <td>24</td>\n",
       "      <td>Williams Lake</td>\n",
       "      <td>Meats</td>\n",
       "      <td>Meats Manager</td>\n",
       "      <td>40</td>\n",
       "      <td>F</td>\n",
       "      <td>Female</td>\n",
       "      <td>Retirement</td>\n",
       "      <td>Voluntary</td>\n",
       "      <td>2014</td>\n",
       "      <td>TERMINATED</td>\n",
       "      <td>STORES</td>\n",
       "    </tr>\n",
       "    <tr>\n",
       "      <th>49650</th>\n",
       "      <td>4619</td>\n",
       "      <td>7/1/2012 0:00</td>\n",
       "      <td>1947-07-01</td>\n",
       "      <td>1999-01-06</td>\n",
       "      <td>2012-07-01</td>\n",
       "      <td>65</td>\n",
       "      <td>13</td>\n",
       "      <td>Williams Lake</td>\n",
       "      <td>Produce</td>\n",
       "      <td>Produce Clerk</td>\n",
       "      <td>40</td>\n",
       "      <td>F</td>\n",
       "      <td>Female</td>\n",
       "      <td>Retirement</td>\n",
       "      <td>Voluntary</td>\n",
       "      <td>2012</td>\n",
       "      <td>TERMINATED</td>\n",
       "      <td>STORES</td>\n",
       "    </tr>\n",
       "    <tr>\n",
       "      <th>49651</th>\n",
       "      <td>4382</td>\n",
       "      <td>2/1/2013 0:00</td>\n",
       "      <td>1965-06-25</td>\n",
       "      <td>1998-05-11</td>\n",
       "      <td>2013-02-16</td>\n",
       "      <td>47</td>\n",
       "      <td>14</td>\n",
       "      <td>Williams Lake</td>\n",
       "      <td>Produce</td>\n",
       "      <td>Produce Clerk</td>\n",
       "      <td>40</td>\n",
       "      <td>F</td>\n",
       "      <td>Female</td>\n",
       "      <td>Resignaton</td>\n",
       "      <td>Voluntary</td>\n",
       "      <td>2013</td>\n",
       "      <td>TERMINATED</td>\n",
       "      <td>STORES</td>\n",
       "    </tr>\n",
       "    <tr>\n",
       "      <th>49652</th>\n",
       "      <td>2756</td>\n",
       "      <td>4/1/2007 0:00</td>\n",
       "      <td>1942-04-30</td>\n",
       "      <td>1993-11-05</td>\n",
       "      <td>2007-04-30</td>\n",
       "      <td>65</td>\n",
       "      <td>13</td>\n",
       "      <td>Williams Lake</td>\n",
       "      <td>Meats</td>\n",
       "      <td>Meat Cutter</td>\n",
       "      <td>40</td>\n",
       "      <td>F</td>\n",
       "      <td>Female</td>\n",
       "      <td>Retirement</td>\n",
       "      <td>Voluntary</td>\n",
       "      <td>2007</td>\n",
       "      <td>TERMINATED</td>\n",
       "      <td>STORES</td>\n",
       "    </tr>\n",
       "  </tbody>\n",
       "</table>\n",
       "</div>"
      ],
      "text/plain": [
       "       EmployeeID  recorddate_key birthdate_key orighiredate_key  \\\n",
       "49643        6863   9/1/2013 0:00    1983-09-07       2007-12-21   \n",
       "49644        5475   5/1/2012 0:00    1972-08-01       2002-02-08   \n",
       "49645        8013   1/1/2014 0:00    1992-05-26       2012-07-28   \n",
       "49646        7265   2/1/2011 0:00    1986-10-04       2009-08-05   \n",
       "49647        8183  10/1/2014 0:00    1993-10-02       2013-04-15   \n",
       "49648        7560   7/1/2013 0:00    1988-12-26       2010-10-08   \n",
       "49649        1483  11/1/2014 0:00    1949-11-22       1990-02-15   \n",
       "49650        4619   7/1/2012 0:00    1947-07-01       1999-01-06   \n",
       "49651        4382   2/1/2013 0:00    1965-06-25       1998-05-11   \n",
       "49652        2756   4/1/2007 0:00    1942-04-30       1993-11-05   \n",
       "\n",
       "      terminationdate_key  age  length_of_service      city_name  \\\n",
       "49643          2013-09-07   30                  5  Williams Lake   \n",
       "49644          2012-05-07   39                 10  Williams Lake   \n",
       "49645          2014-01-28   21                  1  Williams Lake   \n",
       "49646          2011-02-05   24                  1  Williams Lake   \n",
       "49647          2014-10-15   21                  1  Williams Lake   \n",
       "49648          2013-07-18   24                  2  Williams Lake   \n",
       "49649          2014-11-22   65                 24  Williams Lake   \n",
       "49650          2012-07-01   65                 13  Williams Lake   \n",
       "49651          2013-02-16   47                 14  Williams Lake   \n",
       "49652          2007-04-30   65                 13  Williams Lake   \n",
       "\n",
       "        department_name      job_title  store_name gender_short gender_full  \\\n",
       "49643   Processed Foods  Shelf Stocker          40            F      Female   \n",
       "49644            Bakery          Baker          40            M        Male   \n",
       "49645  Customer Service        Cashier          40            M        Male   \n",
       "49646  Customer Service        Cashier          40            M        Male   \n",
       "49647  Customer Service        Cashier          40            F      Female   \n",
       "49648  Customer Service        Cashier          40            M        Male   \n",
       "49649             Meats  Meats Manager          40            F      Female   \n",
       "49650           Produce  Produce Clerk          40            F      Female   \n",
       "49651           Produce  Produce Clerk          40            F      Female   \n",
       "49652             Meats    Meat Cutter          40            F      Female   \n",
       "\n",
       "      termreason_desc termtype_desc  STATUS_YEAR      STATUS BUSINESS_UNIT  \n",
       "49643      Resignaton     Voluntary         2013  TERMINATED        STORES  \n",
       "49644      Resignaton     Voluntary         2012  TERMINATED        STORES  \n",
       "49645      Resignaton     Voluntary         2014  TERMINATED        STORES  \n",
       "49646      Resignaton     Voluntary         2011  TERMINATED        STORES  \n",
       "49647      Resignaton     Voluntary         2014  TERMINATED        STORES  \n",
       "49648      Resignaton     Voluntary         2013  TERMINATED        STORES  \n",
       "49649      Retirement     Voluntary         2014  TERMINATED        STORES  \n",
       "49650      Retirement     Voluntary         2012  TERMINATED        STORES  \n",
       "49651      Resignaton     Voluntary         2013  TERMINATED        STORES  \n",
       "49652      Retirement     Voluntary         2007  TERMINATED        STORES  "
      ]
     },
     "execution_count": 7,
     "metadata": {},
     "output_type": "execute_result"
    }
   ],
   "source": [
    "#Last ten rows\n",
    "employee.tail(10)"
   ]
  },
  {
   "cell_type": "code",
   "execution_count": 20,
   "metadata": {
    "collapsed": false
   },
   "outputs": [
    {
     "data": {
      "text/plain": [
       "EmployeeID              int64\n",
       "recorddate_key         object\n",
       "birthdate_key          object\n",
       "orighiredate_key       object\n",
       "terminationdate_key    object\n",
       "age                     int64\n",
       "length_of_service       int64\n",
       "city_name              object\n",
       "department_name        object\n",
       "job_title              object\n",
       "store_name              int64\n",
       "gender_short           object\n",
       "gender_full            object\n",
       "termreason_desc        object\n",
       "termtype_desc          object\n",
       "STATUS_YEAR             int64\n",
       "STATUS                 object\n",
       "BUSINESS_UNIT          object\n",
       "dtype: object"
      ]
     },
     "execution_count": 20,
     "metadata": {},
     "output_type": "execute_result"
    }
   ],
   "source": [
    "#Type of column\n",
    "employee.dtypes"
   ]
  },
  {
   "cell_type": "code",
   "execution_count": 36,
   "metadata": {
    "collapsed": false
   },
   "outputs": [
    {
     "data": {
      "text/plain": [
       "city_name\n",
       "Abbotsford            681\n",
       "Aldergrove            520\n",
       "Bella Bella           126\n",
       "Blue River              9\n",
       "Burnaby              2067\n",
       "Chilliwack           1167\n",
       "Cortes Island          43\n",
       "Cranbrook            1785\n",
       "Dawson Creek          129\n",
       "Dease Lake             18\n",
       "Fort Nelson           322\n",
       "Fort St John          621\n",
       "Grand Forks           236\n",
       "Haney                 182\n",
       "Kamloops             2061\n",
       "Kelowna              2513\n",
       "Langley               901\n",
       "Nanaimo              3876\n",
       "Nelson                317\n",
       "New Westminister      254\n",
       "New Westminster      3211\n",
       "North Vancouver       648\n",
       "Ocean Falls            65\n",
       "Pitt Meadows           57\n",
       "Port Coquitlam        545\n",
       "Prince George        2048\n",
       "Princeton             136\n",
       "Quesnel               703\n",
       "Richmond             1401\n",
       "Squamish              806\n",
       "Surrey               1560\n",
       "Terrace              1228\n",
       "Trail                 925\n",
       "Valemount              37\n",
       "Vancouver           11211\n",
       "Vernon                898\n",
       "Victoria             4885\n",
       "West Vancouver        613\n",
       "White Rock            231\n",
       "Williams Lake         617\n",
       "dtype: int64"
      ]
     },
     "execution_count": 36,
     "metadata": {},
     "output_type": "execute_result"
    }
   ],
   "source": [
    "#List out Total employee based on city name\n",
    "employee.groupby('city_name').size()"
   ]
  },
  {
   "cell_type": "code",
   "execution_count": 34,
   "metadata": {
    "collapsed": false
   },
   "outputs": [
    {
     "data": {
      "text/html": [
       "<div>\n",
       "<table border=\"1\" class=\"dataframe\">\n",
       "  <thead>\n",
       "    <tr style=\"text-align: right;\">\n",
       "      <th></th>\n",
       "      <th>EmployeeID</th>\n",
       "      <th>recorddate_key</th>\n",
       "      <th>birthdate_key</th>\n",
       "      <th>orighiredate_key</th>\n",
       "      <th>terminationdate_key</th>\n",
       "      <th>age</th>\n",
       "      <th>length_of_service</th>\n",
       "      <th>city_name</th>\n",
       "      <th>department_name</th>\n",
       "      <th>job_title</th>\n",
       "      <th>store_name</th>\n",
       "      <th>gender_short</th>\n",
       "      <th>gender_full</th>\n",
       "      <th>termreason_desc</th>\n",
       "      <th>termtype_desc</th>\n",
       "      <th>STATUS_YEAR</th>\n",
       "      <th>STATUS</th>\n",
       "      <th>BUSINESS_UNIT</th>\n",
       "    </tr>\n",
       "  </thead>\n",
       "  <tbody>\n",
       "    <tr>\n",
       "      <th>157</th>\n",
       "      <td>1343</td>\n",
       "      <td>12/31/2006 0:00</td>\n",
       "      <td>1949-02-24</td>\n",
       "      <td>1989-09-25</td>\n",
       "      <td>2014-02-24</td>\n",
       "      <td>57</td>\n",
       "      <td>17</td>\n",
       "      <td>Victoria</td>\n",
       "      <td>Store Management</td>\n",
       "      <td>Store Manager</td>\n",
       "      <td>37</td>\n",
       "      <td>F</td>\n",
       "      <td>Female</td>\n",
       "      <td>Retirement</td>\n",
       "      <td>Voluntary</td>\n",
       "      <td>2006</td>\n",
       "      <td>ACTIVE</td>\n",
       "      <td>STORES</td>\n",
       "    </tr>\n",
       "    <tr>\n",
       "      <th>158</th>\n",
       "      <td>1343</td>\n",
       "      <td>12/31/2007 0:00</td>\n",
       "      <td>1949-02-24</td>\n",
       "      <td>1989-09-25</td>\n",
       "      <td>2014-02-24</td>\n",
       "      <td>58</td>\n",
       "      <td>18</td>\n",
       "      <td>Victoria</td>\n",
       "      <td>Store Management</td>\n",
       "      <td>Store Manager</td>\n",
       "      <td>37</td>\n",
       "      <td>F</td>\n",
       "      <td>Female</td>\n",
       "      <td>Retirement</td>\n",
       "      <td>Voluntary</td>\n",
       "      <td>2007</td>\n",
       "      <td>ACTIVE</td>\n",
       "      <td>STORES</td>\n",
       "    </tr>\n",
       "    <tr>\n",
       "      <th>159</th>\n",
       "      <td>1343</td>\n",
       "      <td>12/31/2008 0:00</td>\n",
       "      <td>1949-02-24</td>\n",
       "      <td>1989-09-25</td>\n",
       "      <td>2014-02-24</td>\n",
       "      <td>59</td>\n",
       "      <td>19</td>\n",
       "      <td>Victoria</td>\n",
       "      <td>Store Management</td>\n",
       "      <td>Store Manager</td>\n",
       "      <td>37</td>\n",
       "      <td>F</td>\n",
       "      <td>Female</td>\n",
       "      <td>Retirement</td>\n",
       "      <td>Voluntary</td>\n",
       "      <td>2008</td>\n",
       "      <td>ACTIVE</td>\n",
       "      <td>STORES</td>\n",
       "    </tr>\n",
       "    <tr>\n",
       "      <th>160</th>\n",
       "      <td>1343</td>\n",
       "      <td>12/31/2009 0:00</td>\n",
       "      <td>1949-02-24</td>\n",
       "      <td>1989-09-25</td>\n",
       "      <td>2014-02-24</td>\n",
       "      <td>60</td>\n",
       "      <td>20</td>\n",
       "      <td>Victoria</td>\n",
       "      <td>Store Management</td>\n",
       "      <td>Store Manager</td>\n",
       "      <td>37</td>\n",
       "      <td>F</td>\n",
       "      <td>Female</td>\n",
       "      <td>Retirement</td>\n",
       "      <td>Voluntary</td>\n",
       "      <td>2009</td>\n",
       "      <td>ACTIVE</td>\n",
       "      <td>STORES</td>\n",
       "    </tr>\n",
       "    <tr>\n",
       "      <th>161</th>\n",
       "      <td>1343</td>\n",
       "      <td>12/31/2010 0:00</td>\n",
       "      <td>1949-02-24</td>\n",
       "      <td>1989-09-25</td>\n",
       "      <td>2014-02-24</td>\n",
       "      <td>61</td>\n",
       "      <td>21</td>\n",
       "      <td>Victoria</td>\n",
       "      <td>Store Management</td>\n",
       "      <td>Store Manager</td>\n",
       "      <td>37</td>\n",
       "      <td>F</td>\n",
       "      <td>Female</td>\n",
       "      <td>Retirement</td>\n",
       "      <td>Voluntary</td>\n",
       "      <td>2010</td>\n",
       "      <td>ACTIVE</td>\n",
       "      <td>STORES</td>\n",
       "    </tr>\n",
       "  </tbody>\n",
       "</table>\n",
       "</div>"
      ],
      "text/plain": [
       "     EmployeeID   recorddate_key birthdate_key orighiredate_key  \\\n",
       "157        1343  12/31/2006 0:00    1949-02-24       1989-09-25   \n",
       "158        1343  12/31/2007 0:00    1949-02-24       1989-09-25   \n",
       "159        1343  12/31/2008 0:00    1949-02-24       1989-09-25   \n",
       "160        1343  12/31/2009 0:00    1949-02-24       1989-09-25   \n",
       "161        1343  12/31/2010 0:00    1949-02-24       1989-09-25   \n",
       "\n",
       "    terminationdate_key  age  length_of_service city_name   department_name  \\\n",
       "157          2014-02-24   57                 17  Victoria  Store Management   \n",
       "158          2014-02-24   58                 18  Victoria  Store Management   \n",
       "159          2014-02-24   59                 19  Victoria  Store Management   \n",
       "160          2014-02-24   60                 20  Victoria  Store Management   \n",
       "161          2014-02-24   61                 21  Victoria  Store Management   \n",
       "\n",
       "         job_title  store_name gender_short gender_full termreason_desc  \\\n",
       "157  Store Manager          37            F      Female      Retirement   \n",
       "158  Store Manager          37            F      Female      Retirement   \n",
       "159  Store Manager          37            F      Female      Retirement   \n",
       "160  Store Manager          37            F      Female      Retirement   \n",
       "161  Store Manager          37            F      Female      Retirement   \n",
       "\n",
       "    termtype_desc  STATUS_YEAR  STATUS BUSINESS_UNIT  \n",
       "157     Voluntary         2006  ACTIVE        STORES  \n",
       "158     Voluntary         2007  ACTIVE        STORES  \n",
       "159     Voluntary         2008  ACTIVE        STORES  \n",
       "160     Voluntary         2009  ACTIVE        STORES  \n",
       "161     Voluntary         2010  ACTIVE        STORES  "
      ]
     },
     "execution_count": 34,
     "metadata": {},
     "output_type": "execute_result"
    }
   ],
   "source": [
    "#Select Victoria city group\n",
    "victoria = employee[employee['city_name']=='Victoria'] \n",
    "victoria.head()"
   ]
  },
  {
   "cell_type": "code",
   "execution_count": 35,
   "metadata": {
    "collapsed": false
   },
   "outputs": [
    {
     "data": {
      "text/plain": [
       "4885"
      ]
     },
     "execution_count": 35,
     "metadata": {},
     "output_type": "execute_result"
    }
   ],
   "source": [
    "len(victoria)"
   ]
  },
  {
   "cell_type": "code",
   "execution_count": 38,
   "metadata": {
    "collapsed": false
   },
   "outputs": [
    {
     "data": {
      "text/html": [
       "<div>\n",
       "<table border=\"1\" class=\"dataframe\">\n",
       "  <thead>\n",
       "    <tr style=\"text-align: right;\">\n",
       "      <th></th>\n",
       "      <th>age</th>\n",
       "      <th>length_of_service</th>\n",
       "      <th>job_title</th>\n",
       "      <th>termreason_desc</th>\n",
       "      <th>STATUS</th>\n",
       "    </tr>\n",
       "  </thead>\n",
       "  <tbody>\n",
       "    <tr>\n",
       "      <th>157</th>\n",
       "      <td>57</td>\n",
       "      <td>17</td>\n",
       "      <td>Store Manager</td>\n",
       "      <td>Retirement</td>\n",
       "      <td>ACTIVE</td>\n",
       "    </tr>\n",
       "    <tr>\n",
       "      <th>158</th>\n",
       "      <td>58</td>\n",
       "      <td>18</td>\n",
       "      <td>Store Manager</td>\n",
       "      <td>Retirement</td>\n",
       "      <td>ACTIVE</td>\n",
       "    </tr>\n",
       "    <tr>\n",
       "      <th>159</th>\n",
       "      <td>59</td>\n",
       "      <td>19</td>\n",
       "      <td>Store Manager</td>\n",
       "      <td>Retirement</td>\n",
       "      <td>ACTIVE</td>\n",
       "    </tr>\n",
       "    <tr>\n",
       "      <th>160</th>\n",
       "      <td>60</td>\n",
       "      <td>20</td>\n",
       "      <td>Store Manager</td>\n",
       "      <td>Retirement</td>\n",
       "      <td>ACTIVE</td>\n",
       "    </tr>\n",
       "    <tr>\n",
       "      <th>161</th>\n",
       "      <td>61</td>\n",
       "      <td>21</td>\n",
       "      <td>Store Manager</td>\n",
       "      <td>Retirement</td>\n",
       "      <td>ACTIVE</td>\n",
       "    </tr>\n",
       "  </tbody>\n",
       "</table>\n",
       "</div>"
      ],
      "text/plain": [
       "     age  length_of_service      job_title termreason_desc  STATUS\n",
       "157   57                 17  Store Manager      Retirement  ACTIVE\n",
       "158   58                 18  Store Manager      Retirement  ACTIVE\n",
       "159   59                 19  Store Manager      Retirement  ACTIVE\n",
       "160   60                 20  Store Manager      Retirement  ACTIVE\n",
       "161   61                 21  Store Manager      Retirement  ACTIVE"
      ]
     },
     "execution_count": 38,
     "metadata": {},
     "output_type": "execute_result"
    }
   ],
   "source": [
    "termination = victoria[['age', 'length_of_service', 'job_title', 'termreason_desc','STATUS']]\n",
    "termination.head()"
   ]
  },
  {
   "cell_type": "code",
   "execution_count": 39,
   "metadata": {
    "collapsed": false
   },
   "outputs": [
    {
     "data": {
      "text/plain": [
       "job_title\n",
       "Baker                        658\n",
       "Bakery Manager                13\n",
       "Cashier                      606\n",
       "Customer Service Manager      18\n",
       "Dairy Person                 832\n",
       "Meat Cutter                 1352\n",
       "Meats Manager                  8\n",
       "Processed Foods Manager       13\n",
       "Produce Clerk               1049\n",
       "Produce Manager                8\n",
       "Shelf Stocker                315\n",
       "Store Manager                 13\n",
       "dtype: int64"
      ]
     },
     "execution_count": 39,
     "metadata": {},
     "output_type": "execute_result"
    }
   ],
   "source": [
    "termination.groupby('job_title').size()"
   ]
  },
  {
   "cell_type": "code",
   "execution_count": 40,
   "metadata": {
    "collapsed": false
   },
   "outputs": [
    {
     "data": {
      "text/plain": [
       "termreason_desc\n",
       "Layoff              90\n",
       "Not Applicable    4148\n",
       "Resignaton         231\n",
       "Retirement         416\n",
       "dtype: int64"
      ]
     },
     "execution_count": 40,
     "metadata": {},
     "output_type": "execute_result"
    }
   ],
   "source": [
    "termination.groupby('termreason_desc').size()"
   ]
  },
  {
   "cell_type": "code",
   "execution_count": 43,
   "metadata": {
    "collapsed": false
   },
   "outputs": [
    {
     "data": {
      "text/plain": [
       "job_title                 termreason_desc\n",
       "Baker                     Not Applicable     38.100000\n",
       "                          Resignaton         28.250000\n",
       "Bakery Manager            Retirement         60.230769\n",
       "Cashier                   Not Applicable     38.630975\n",
       "                          Resignaton         22.192771\n",
       "Customer Service Manager  Retirement         61.000000\n",
       "Dairy Person              Not Applicable     32.676190\n",
       "                          Resignaton         26.833333\n",
       "                          Retirement         60.230769\n",
       "Meat Cutter               Layoff             59.500000\n",
       "                          Not Applicable     50.571429\n",
       "                          Resignaton         53.444444\n",
       "                          Retirement         61.604839\n",
       "Meats Manager             Retirement         58.500000\n",
       "Processed Foods Manager   Retirement         60.230769\n",
       "Produce Clerk             Not Applicable     42.680723\n",
       "                          Resignaton         39.615385\n",
       "                          Retirement         61.504854\n",
       "Produce Manager           Retirement         58.500000\n",
       "Shelf Stocker             Not Applicable     35.572414\n",
       "                          Resignaton         23.720000\n",
       "Store Manager             Retirement         60.230769\n",
       "Name: age, dtype: float64"
      ]
     },
     "execution_count": 43,
     "metadata": {},
     "output_type": "execute_result"
    }
   ],
   "source": [
    "#Average age termination by job title\n",
    "termination['age'].groupby([termination['job_title'], termination['termreason_desc']]).mean()"
   ]
  },
  {
   "cell_type": "code",
   "execution_count": 79,
   "metadata": {
    "collapsed": false
   },
   "outputs": [
    {
     "data": {
      "text/plain": [
       "job_title                 termreason_desc\n",
       "Baker                     Not Applicable      98.784195\n",
       "                          Resignaton           1.215805\n",
       "Bakery Manager            Retirement         100.000000\n",
       "Cashier                   Not Applicable      86.303630\n",
       "                          Resignaton          13.696370\n",
       "Customer Service Manager  Retirement         100.000000\n",
       "Dairy Person              Not Applicable      88.341346\n",
       "                          Resignaton          10.096154\n",
       "                          Retirement           1.562500\n",
       "Meat Cutter               Layoff               6.656805\n",
       "                          Not Applicable      82.840237\n",
       "                          Resignaton           1.331361\n",
       "                          Retirement           9.171598\n",
       "Meats Manager             Retirement         100.000000\n",
       "Processed Foods Manager   Retirement         100.000000\n",
       "Produce Clerk             Not Applicable      79.122974\n",
       "                          Resignaton           1.239276\n",
       "                          Retirement          19.637750\n",
       "Produce Manager           Retirement         100.000000\n",
       "Shelf Stocker             Not Applicable      92.063492\n",
       "                          Resignaton           7.936508\n",
       "Store Manager             Retirement         100.000000\n",
       "dtype: float64"
      ]
     },
     "execution_count": 79,
     "metadata": {},
     "output_type": "execute_result"
    }
   ],
   "source": [
    "#Average age termination by job title\n",
    "termination['age'].groupby([termination['job_title'], termination['termreason_desc']]).size() * 100 / termination.groupby(termination['job_title']).size()"
   ]
  },
  {
   "cell_type": "markdown",
   "metadata": {},
   "source": [
    "Reason for terminate baker: **Not Applicable 98.78%**, **Resignation 1.22%**"
   ]
  },
  {
   "cell_type": "markdown",
   "metadata": {},
   "source": [
    "Reason for terminate Bakery Manager: **Retirement 100%**"
   ]
  },
  {
   "cell_type": "markdown",
   "metadata": {},
   "source": [
    "Reason for terminate cashier: **Not Applicable 86.30%**, **Resignation 13.70%**"
   ]
  },
  {
   "cell_type": "markdown",
   "metadata": {},
   "source": [
    "Reason for terminate Customer Service Manager: **Retirement 100%**"
   ]
  },
  {
   "cell_type": "code",
   "execution_count": 44,
   "metadata": {
    "collapsed": true
   },
   "outputs": [],
   "source": [
    "#function min and max\n",
    "def get_stats(group):\n",
    "    return {'min': group.min(), 'max': group.max()}"
   ]
  },
  {
   "cell_type": "code",
   "execution_count": 46,
   "metadata": {
    "collapsed": false
   },
   "outputs": [
    {
     "data": {
      "text/plain": [
       "job_title                 termreason_desc     \n",
       "Baker                     Not Applicable   max    56\n",
       "                                           min    25\n",
       "                          Resignaton       max    32\n",
       "                                           min    25\n",
       "Bakery Manager            Retirement       max    65\n",
       "                                           min    57\n",
       "Cashier                   Not Applicable   max    51\n",
       "                                           min    19\n",
       "                          Resignaton       max    41\n",
       "                                           min    19\n",
       "Customer Service Manager  Retirement       max    65\n",
       "                                           min    57\n",
       "Dairy Person              Not Applicable   max    53\n",
       "                                           min    23\n",
       "                          Resignaton       max    30\n",
       "                                           min    23\n",
       "                          Retirement       max    65\n",
       "                                           min    57\n",
       "Meat Cutter               Layoff           max    64\n",
       "                                           min    55\n",
       "                          Not Applicable   max    64\n",
       "                                           min    35\n",
       "                          Resignaton       max    58\n",
       "                                           min    49\n",
       "                          Retirement       max    65\n",
       "                                           min    56\n",
       "Meats Manager             Retirement       max    60\n",
       "                                           min    57\n",
       "Processed Foods Manager   Retirement       max    65\n",
       "                                           min    57\n",
       "Produce Clerk             Not Applicable   max    58\n",
       "                                           min    30\n",
       "                          Resignaton       max    50\n",
       "                                           min    31\n",
       "                          Retirement       max    65\n",
       "                                           min    58\n",
       "Produce Manager           Retirement       max    60\n",
       "                                           min    57\n",
       "Shelf Stocker             Not Applicable   max    52\n",
       "                                           min    21\n",
       "                          Resignaton       max    27\n",
       "                                           min    21\n",
       "Store Manager             Retirement       max    65\n",
       "                                           min    57\n",
       "Name: age, dtype: int64"
      ]
     },
     "execution_count": 46,
     "metadata": {},
     "output_type": "execute_result"
    }
   ],
   "source": [
    "#group termination by occupation\n",
    "termination['age'].groupby([termination['job_title'], termination['termreason_desc']]).apply(get_stats)"
   ]
  },
  {
   "cell_type": "code",
   "execution_count": 47,
   "metadata": {
    "collapsed": false
   },
   "outputs": [
    {
     "data": {
      "text/plain": [
       "STATUS\n",
       "ACTIVE        4734\n",
       "TERMINATED     151\n",
       "dtype: int64"
      ]
     },
     "execution_count": 47,
     "metadata": {},
     "output_type": "execute_result"
    }
   ],
   "source": [
    "termination.groupby('STATUS').size()"
   ]
  },
  {
   "cell_type": "code",
   "execution_count": 48,
   "metadata": {
    "collapsed": false
   },
   "outputs": [
    {
     "name": "stdout",
     "output_type": "stream",
     "text": [
      "<class 'pandas.core.frame.DataFrame'>\n",
      "Int64Index: 4885 entries, 157 to 49592\n",
      "Data columns (total 5 columns):\n",
      "age                  4885 non-null int64\n",
      "length_of_service    4885 non-null int64\n",
      "job_title            4885 non-null object\n",
      "termreason_desc      4885 non-null object\n",
      "STATUS               4885 non-null object\n",
      "dtypes: int64(2), object(3)\n",
      "memory usage: 229.0+ KB\n"
     ]
    }
   ],
   "source": [
    "termination.info()"
   ]
  },
  {
   "cell_type": "code",
   "execution_count": 49,
   "metadata": {
    "collapsed": false
   },
   "outputs": [
    {
     "data": {
      "text/html": [
       "<div>\n",
       "<table border=\"1\" class=\"dataframe\">\n",
       "  <thead>\n",
       "    <tr style=\"text-align: right;\">\n",
       "      <th></th>\n",
       "      <th>age</th>\n",
       "      <th>length_of_service</th>\n",
       "      <th>job_title</th>\n",
       "      <th>termreason_desc</th>\n",
       "    </tr>\n",
       "  </thead>\n",
       "  <tbody>\n",
       "    <tr>\n",
       "      <th>157</th>\n",
       "      <td>57</td>\n",
       "      <td>17</td>\n",
       "      <td>Store Manager</td>\n",
       "      <td>Retirement</td>\n",
       "    </tr>\n",
       "    <tr>\n",
       "      <th>158</th>\n",
       "      <td>58</td>\n",
       "      <td>18</td>\n",
       "      <td>Store Manager</td>\n",
       "      <td>Retirement</td>\n",
       "    </tr>\n",
       "    <tr>\n",
       "      <th>159</th>\n",
       "      <td>59</td>\n",
       "      <td>19</td>\n",
       "      <td>Store Manager</td>\n",
       "      <td>Retirement</td>\n",
       "    </tr>\n",
       "    <tr>\n",
       "      <th>160</th>\n",
       "      <td>60</td>\n",
       "      <td>20</td>\n",
       "      <td>Store Manager</td>\n",
       "      <td>Retirement</td>\n",
       "    </tr>\n",
       "    <tr>\n",
       "      <th>161</th>\n",
       "      <td>61</td>\n",
       "      <td>21</td>\n",
       "      <td>Store Manager</td>\n",
       "      <td>Retirement</td>\n",
       "    </tr>\n",
       "  </tbody>\n",
       "</table>\n",
       "</div>"
      ],
      "text/plain": [
       "     age  length_of_service      job_title termreason_desc\n",
       "157   57                 17  Store Manager      Retirement\n",
       "158   58                 18  Store Manager      Retirement\n",
       "159   59                 19  Store Manager      Retirement\n",
       "160   60                 20  Store Manager      Retirement\n",
       "161   61                 21  Store Manager      Retirement"
      ]
     },
     "execution_count": 49,
     "metadata": {},
     "output_type": "execute_result"
    }
   ],
   "source": [
    "#delete column status\n",
    "del termination['STATUS']\n",
    "termination.head()"
   ]
  },
  {
   "cell_type": "code",
   "execution_count": 64,
   "metadata": {
    "collapsed": false
   },
   "outputs": [
    {
     "data": {
      "text/html": [
       "<div>\n",
       "<table border=\"1\" class=\"dataframe\">\n",
       "  <thead>\n",
       "    <tr style=\"text-align: right;\">\n",
       "      <th></th>\n",
       "      <th>age</th>\n",
       "      <th>length_of_service</th>\n",
       "    </tr>\n",
       "  </thead>\n",
       "  <tbody>\n",
       "    <tr>\n",
       "      <th>count</th>\n",
       "      <td>4885.000000</td>\n",
       "      <td>4885.000000</td>\n",
       "    </tr>\n",
       "    <tr>\n",
       "      <th>mean</th>\n",
       "      <td>42.699898</td>\n",
       "      <td>10.684749</td>\n",
       "    </tr>\n",
       "    <tr>\n",
       "      <th>std</th>\n",
       "      <td>12.510929</td>\n",
       "      <td>6.343474</td>\n",
       "    </tr>\n",
       "    <tr>\n",
       "      <th>min</th>\n",
       "      <td>19.000000</td>\n",
       "      <td>0.000000</td>\n",
       "    </tr>\n",
       "    <tr>\n",
       "      <th>25%</th>\n",
       "      <td>31.000000</td>\n",
       "      <td>5.000000</td>\n",
       "    </tr>\n",
       "    <tr>\n",
       "      <th>50%</th>\n",
       "      <td>43.000000</td>\n",
       "      <td>11.000000</td>\n",
       "    </tr>\n",
       "    <tr>\n",
       "      <th>75%</th>\n",
       "      <td>53.000000</td>\n",
       "      <td>16.000000</td>\n",
       "    </tr>\n",
       "    <tr>\n",
       "      <th>max</th>\n",
       "      <td>65.000000</td>\n",
       "      <td>25.000000</td>\n",
       "    </tr>\n",
       "  </tbody>\n",
       "</table>\n",
       "</div>"
      ],
      "text/plain": [
       "               age  length_of_service\n",
       "count  4885.000000        4885.000000\n",
       "mean     42.699898          10.684749\n",
       "std      12.510929           6.343474\n",
       "min      19.000000           0.000000\n",
       "25%      31.000000           5.000000\n",
       "50%      43.000000          11.000000\n",
       "75%      53.000000          16.000000\n",
       "max      65.000000          25.000000"
      ]
     },
     "execution_count": 64,
     "metadata": {},
     "output_type": "execute_result"
    }
   ],
   "source": [
    "termination.describe()"
   ]
  },
  {
   "cell_type": "code",
   "execution_count": 59,
   "metadata": {
    "collapsed": true
   },
   "outputs": [],
   "source": [
    "import matplotlib.pyplot as plt"
   ]
  },
  {
   "cell_type": "code",
   "execution_count": 60,
   "metadata": {
    "collapsed": false
   },
   "outputs": [
    {
     "data": {
      "image/png": "[encoded data removed]",
      "text/plain": [
       "<matplotlib.figure.Figure at 0x240faa02358>"
      ]
     },
     "metadata": {},
     "output_type": "display_data"
    }
   ],
   "source": [
    "dataint = termination[['age','length_of_service']]\n",
    "dataint.hist()\n",
    "plt.show();"
   ]
  },
  {
   "cell_type": "code",
   "execution_count": null,
   "metadata": {
    "collapsed": true
   },
   "outputs": [],
   "source": [
    "import plotly.plotly as py\n",
    "import plotly.graph_objs as go"
   ]
  },
  {
   "cell_type": "code",
   "execution_count": 73,
   "metadata": {
    "collapsed": false
   },
   "outputs": [
    {
     "data": {
      "text/html": [
       "<iframe id=\"igraph\" scrolling=\"no\" style=\"border:none;\" seamless=\"seamless\" src=\"https://plot.ly/~mkrijal/120.embed\" height=\"525px\" width=\"100%\"></iframe>"
      ],
      "text/plain": [
       "<plotly.tools.PlotlyDisplay object>"
      ]
     },
     "execution_count": 73,
     "metadata": {},
     "output_type": "execute_result"
    }
   ],
   "source": [
    "y0 = termination['age']\n",
    "y1 = termination['length_of_service']\n",
    "\n",
    "column0 = go.Box(y=y0)\n",
    "column1 = go.Box(y=y1)\n",
    "\n",
    "data = [column0, column1]\n",
    "py.iplot(data)"
   ]
  },
  {
   "cell_type": "code",
   "execution_count": 75,
   "metadata": {
    "collapsed": false
   },
   "outputs": [],
   "source": [
    "#Define a generic function using Pandas replace function\n",
    "def coding(col, codeDict):\n",
    "  colCoded = pd.Series(col, copy=True)\n",
    "  for key, value in codeDict.items():\n",
    "    colCoded.replace(key, value, inplace=True)\n",
    "  return colCoded"
   ]
  },
  {
   "cell_type": "code",
   "execution_count": null,
   "metadata": {
    "collapsed": true
   },
   "outputs": [],
   "source": [
    "termination[\"Terminate_Coded\"] = coding(termination[\"termreason_desc\"], {'Layoff':0,'Not Applicable':1, 'Resignation':})"
   ]
  },
  {
   "cell_type": "code",
   "execution_count": 80,
   "metadata": {
    "collapsed": false
   },
   "outputs": [
    {
     "data": {
      "text/html": [
       "<div>\n",
       "<table border=\"1\" class=\"dataframe\">\n",
       "  <thead>\n",
       "    <tr style=\"text-align: right;\">\n",
       "      <th></th>\n",
       "      <th>age</th>\n",
       "      <th>length_of_service</th>\n",
       "    </tr>\n",
       "  </thead>\n",
       "  <tbody>\n",
       "    <tr>\n",
       "      <th>age</th>\n",
       "      <td>1.000000</td>\n",
       "      <td>0.906901</td>\n",
       "    </tr>\n",
       "    <tr>\n",
       "      <th>length_of_service</th>\n",
       "      <td>0.906901</td>\n",
       "      <td>1.000000</td>\n",
       "    </tr>\n",
       "  </tbody>\n",
       "</table>\n",
       "</div>"
      ],
      "text/plain": [
       "                        age  length_of_service\n",
       "age                1.000000           0.906901\n",
       "length_of_service  0.906901           1.000000"
      ]
     },
     "execution_count": 80,
     "metadata": {},
     "output_type": "execute_result"
    }
   ],
   "source": [
    "termination.corr()"
   ]
  },
  {
   "cell_type": "code",
   "execution_count": 87,
   "metadata": {
    "collapsed": false
   },
   "outputs": [
    {
     "data": {
      "text/plain": [
       "<matplotlib.axes._subplots.AxesSubplot at 0x240fa733550>"
      ]
     },
     "execution_count": 87,
     "metadata": {},
     "output_type": "execute_result"
    },
    {
     "data": {
      "image/png": "[encoded data removed]",
      "text/plain": [
       "<matplotlib.figure.Figure at 0x240fcc02358>"
      ]
     },
     "metadata": {},
     "output_type": "display_data"
    }
   ],
   "source": [
    "sns.heatmap(termination.corr())"
   ]
  },
  {
   "cell_type": "code",
   "execution_count": 81,
   "metadata": {
    "collapsed": true
   },
   "outputs": [],
   "source": [
    "import seaborn as sns"
   ]
  },
  {
   "cell_type": "code",
   "execution_count": 82,
   "metadata": {
    "collapsed": true
   },
   "outputs": [],
   "source": [
    "%matplotlib inline\n",
    "plt.rcParams['figure.figsize'] = (8, 6)\n",
    "plt.rcParams['font.size'] = 14"
   ]
  },
  {
   "cell_type": "code",
   "execution_count": 83,
   "metadata": {
    "collapsed": false
   },
   "outputs": [
    {
     "data": {
      "text/plain": [
       "<matplotlib.axes._subplots.AxesSubplot at 0x240fc7c0710>"
      ]
     },
     "execution_count": 83,
     "metadata": {},
     "output_type": "execute_result"
    },
    {
     "data": {
      "image/png": "[encoded data removed]",
      "text/plain": [
       "<matplotlib.figure.Figure at 0x240fa7bc4a8>"
      ]
     },
     "metadata": {},
     "output_type": "display_data"
    }
   ],
   "source": [
    "# Pandas scatter plot\n",
    "termination.plot(kind='scatter', x='age', y='length_of_service', alpha=0.2)"
   ]
  },
  {
   "cell_type": "code",
   "execution_count": 84,
   "metadata": {
    "collapsed": false
   },
   "outputs": [
    {
     "data": {
      "text/plain": [
       "<seaborn.axisgrid.FacetGrid at 0x240fc8b1b70>"
      ]
     },
     "execution_count": 84,
     "metadata": {},
     "output_type": "execute_result"
    },
    {
     "data": {
      "image/png": "[encoded data removed]",
      "text/plain": [
       "<matplotlib.figure.Figure at 0x240fc8b1b38>"
      ]
     },
     "metadata": {},
     "output_type": "display_data"
    }
   ],
   "source": [
    "# Seaborn scatter plot with regression line\n",
    "sns.lmplot(x='age', y='length_of_service', data=termination, aspect=1.5, scatter_kws={'alpha':0.2})"
   ]
  },
  {
   "cell_type": "code",
   "execution_count": 86,
   "metadata": {
    "collapsed": false
   },
   "outputs": [
    {
     "data": {
      "text/plain": [
       "<matplotlib.axes._subplots.AxesSubplot at 0x240fcb44400>"
      ]
     },
     "execution_count": 86,
     "metadata": {},
     "output_type": "execute_result"
    },
    {
     "data": {
      "image/png": "[encoded data removed]",
      "text/plain": [
       "<matplotlib.figure.Figure at 0x240fcc14940>"
      ]
     },
     "metadata": {},
     "output_type": "display_data"
    }
   ],
   "source": [
    "termination.length_of_service.plot()"
   ]
  },
  {
   "cell_type": "code",
   "execution_count": 88,
   "metadata": {
    "collapsed": true
   },
   "outputs": [],
   "source": [
    "# create X and y\n",
    "feature_cols = ['age']\n",
    "X = termination[feature_cols]\n",
    "Y = termination.length_of_service"
   ]
  },
  {
   "cell_type": "code",
   "execution_count": 89,
   "metadata": {
    "collapsed": false
   },
   "outputs": [
    {
     "data": {
      "text/plain": [
       "LinearRegression(copy_X=True, fit_intercept=True, n_jobs=1, normalize=False)"
      ]
     },
     "execution_count": 89,
     "metadata": {},
     "output_type": "execute_result"
    }
   ],
   "source": [
    "# import, instantiate, fit\n",
    "from sklearn.linear_model import LinearRegression\n",
    "linreg = LinearRegression()\n",
    "linreg.fit(X, Y)"
   ]
  },
  {
   "cell_type": "code",
   "execution_count": 90,
   "metadata": {
    "collapsed": false
   },
   "outputs": [
    {
     "name": "stdout",
     "output_type": "stream",
     "text": [
      "-8.9499546226\n",
      "[ 0.45983023]\n"
     ]
    }
   ],
   "source": [
    "# print the coefficients\n",
    "print (linreg.intercept_)\n",
    "print (linreg.coef_)"
   ]
  },
  {
   "cell_type": "markdown",
   "metadata": {},
   "source": [
    "Interpreting the coefficients:\n",
    "\n",
    "- Holding all other features fixed, a 1 unit increase in **age** is associated with a **length of service increase of 0.46 year**."
   ]
  },
  {
   "cell_type": "code",
   "execution_count": 91,
   "metadata": {
    "collapsed": false
   },
   "outputs": [
    {
     "data": {
      "text/plain": [
       "array([ 7.14410351])"
      ]
     },
     "execution_count": 91,
     "metadata": {},
     "output_type": "execute_result"
    }
   ],
   "source": [
    "# manually calculate the prediction\n",
    "linreg.intercept_ + linreg.coef_* 35  #Age = 35"
   ]
  },
  {
   "cell_type": "code",
   "execution_count": 92,
   "metadata": {
    "collapsed": false
   },
   "outputs": [
    {
     "data": {
      "text/plain": [
       "array([ 7.14410351])"
      ]
     },
     "execution_count": 92,
     "metadata": {},
     "output_type": "execute_result"
    }
   ],
   "source": [
    "# use the predict method\n",
    "linreg.predict(35)"
   ]
  },
  {
   "cell_type": "code",
   "execution_count": 93,
   "metadata": {
    "collapsed": false
   },
   "outputs": [
    {
     "name": "stdout",
     "output_type": "stream",
     "text": [
      "Coefficients: \n",
      " [ 0.45968288]\n",
      "Mean squared error: 1.23\n",
      "Variance score: 0.97\n"
     ]
    },
    {
     "data": {
      "image/png": "[encoded data removed]",
      "text/plain": [
       "<matplotlib.figure.Figure at 0x240fe2a0cc0>"
      ]
     },
     "metadata": {},
     "output_type": "display_data"
    }
   ],
   "source": [
    "#Build linear regression model for training and testing set\n",
    "\n",
    "from sklearn import linear_model\n",
    "\n",
    "termination_X = termination.age[:, np.newaxis]\n",
    "\n",
    "termination_X_train = termination_X[:-20] #training set\n",
    "termination_X_test = termination_X[-20:]  #testing set\n",
    "\n",
    "termination_y_train = termination.length_of_service[:-20]  #training set\n",
    "termination_y_test = termination.length_of_service[-20:]   #testing set\n",
    "\n",
    "regr = linear_model.LinearRegression()\n",
    "\n",
    "regr.fit(termination_X_train, termination_y_train)\n",
    "\n",
    "print('Coefficients: \\n', regr.coef_)\n",
    "\n",
    "print ('Mean squared error: %.2f' % np.mean((regr.predict(termination_X_test) - termination_y_test) ** 2))\n",
    "\n",
    "print('Variance score: %.2f' % regr.score(termination_X_test, termination_y_test))\n",
    "\n",
    "\n",
    "plt.scatter(termination_X_test, termination_y_test, color='black')\n",
    "plt.plot(termination_X_test, regr.predict(termination_X_test), color='blue', linewidth=3)\n",
    "plt.show()"
   ]
  },
  {
   "cell_type": "markdown",
   "metadata": {},
   "source": [
    "## Comparing models with train/test split and RMSE"
   ]
  },
  {
   "cell_type": "code",
   "execution_count": 101,
   "metadata": {
    "collapsed": false
   },
   "outputs": [],
   "source": [
    "from sklearn.cross_validation import train_test_split\n",
    "from sklearn import metrics"
   ]
  },
  {
   "cell_type": "code",
   "execution_count": 105,
   "metadata": {
    "collapsed": true
   },
   "outputs": [],
   "source": [
    "# define a function that accepts a list of features and returns testing RMSE\n",
    "def train_test_rmse(feature_cols):\n",
    "    X = termination[feature_cols]\n",
    "    y = termination.length_of_service\n",
    "    X_train, X_test, y_train, y_test = train_test_split(X, y, random_state=123)\n",
    "    linreg = LinearRegression()\n",
    "    linreg.fit(X_train, y_train)\n",
    "    y_pred = linreg.predict(X_test)\n",
    "    return np.sqrt(metrics.mean_squared_error(y_test, y_pred))"
   ]
  },
  {
   "cell_type": "code",
   "execution_count": 106,
   "metadata": {
    "collapsed": false
   },
   "outputs": [
    {
     "data": {
      "text/plain": [
       "2.6406344991630273"
      ]
     },
     "execution_count": 106,
     "metadata": {},
     "output_type": "execute_result"
    }
   ],
   "source": [
    "train_test_rmse(['age'])"
   ]
  },
  {
   "cell_type": "markdown",
   "metadata": {},
   "source": [
    "## Comparing testing RMSE with null RMSE\n",
    "\n",
    "Null RMSE is the RMSE that could be achieved by **always predicting the mean response value**. It is a benchmark against which you may want to measure your regression model."
   ]
  },
  {
   "cell_type": "code",
   "execution_count": 108,
   "metadata": {
    "collapsed": false
   },
   "outputs": [
    {
     "data": {
      "text/plain": [
       "array([ 10.57937807,  10.57937807,  10.57937807, ...,  10.57937807,\n",
       "        10.57937807,  10.57937807])"
      ]
     },
     "execution_count": 108,
     "metadata": {},
     "output_type": "execute_result"
    }
   ],
   "source": [
    "# split X and y into training and testing sets\n",
    "X_train, X_test, y_train, y_test = train_test_split(X, Y, random_state=123)\n",
    "\n",
    "# create a NumPy array with the same shape as y_test\n",
    "y_null = np.zeros_like(y_test, dtype=float)\n",
    "\n",
    "# fill the array with the mean value of y_test\n",
    "y_null.fill(y_test.mean())\n",
    "y_null"
   ]
  },
  {
   "cell_type": "code",
   "execution_count": 109,
   "metadata": {
    "collapsed": false
   },
   "outputs": [
    {
     "data": {
      "text/plain": [
       "6.3878849330291239"
      ]
     },
     "execution_count": 109,
     "metadata": {},
     "output_type": "execute_result"
    }
   ],
   "source": [
    "# compute null RMSE\n",
    "np.sqrt(metrics.mean_squared_error(y_test, y_null))"
   ]
  },
  {
   "cell_type": "code",
   "execution_count": null,
   "metadata": {
    "collapsed": true
   },
   "outputs": [],
   "source": []
  }
 ],
 "metadata": {
  "kernelspec": {
   "display_name": "Python 3",
   "language": "python",
   "name": "python3"
  },
  "language_info": {
   "codemirror_mode": {
    "name": "ipython",
    "version": 3
   },
   "file_extension": ".py",
   "mimetype": "text/x-python",
   "name": "python",
   "nbconvert_exporter": "python",
   "pygments_lexer": "ipython3",
   "version": "3.6.0"
  }
 },
 "nbformat": 4,
 "nbformat_minor": 2
}
